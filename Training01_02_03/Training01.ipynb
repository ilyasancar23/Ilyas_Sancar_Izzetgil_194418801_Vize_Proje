{
  "nbformat": 4,
  "nbformat_minor": 0,
  "metadata": {
    "colab": {
      "provenance": []
    },
    "kernelspec": {
      "name": "python3",
      "display_name": "Python 3"
    },
    "language_info": {
      "name": "python"
    }
  },
  "cells": [
    {
      "cell_type": "markdown",
      "source": [
        "***Training01:***\n",
        "\n",
        "Bu kod, bir sinir ağı modelini oluşturmak ve eğitmek için kullanılan bir Python kod parçacığıdır. İlk olarak, \"numpy\" kütüphanesi \"import\" edilir ve bir sayı üreteci için \"random seed\" değeri ayarlanır. Daha sonra, sinir ağı için 3x1 lik bir matris oluşturulur ve bu matrisin değerleri -1 ile 1 arasında rastgele olarak atanır. \"sigmoid\" fonksiyonu ve \"sigmoid_derivative\" fonksiyonu tanımlanır. \"sigmoid\" fonksiyonu, verilen bir değerin sigmoid fonksiyonunun değerini hesaplar ve \"sigmoid_derivative\" fonksiyonu ise sigmoid fonksiyonunun türevini hesaplar. \"train\" fonksiyonu tanımlanır ve bu fonksiyon, verilen eğitim verilerini (training_inputs ve training_outputs), eğitim iterasyonlarını (training_iterations) ve ağırlıkları kullanarak sinir ağını eğitir. Bu fonksiyon içinde, öncelikle sinir ağından çıkan çıktı (output) hesaplanır ve daha sonra çıktı ile beklenen çıktı arasındaki hata (error) hesaplanır. Daha sonra, ağırlıkların güncellenmesi için \"adjustments\" değişkeni oluşturulur ve bu değişken, eğitim verileri ve hata oranı kullanılarak hesaplanır. Son olarak, ağırlıklar güncellenir ve bu iterasyon tamamlanır. \"think\" fonksiyonu tanımlanır ve bu fonksiyon, verilen girdileri sinir ağına sokarak çıktıyı hesaplar. Son olarak, eğitim verileri tanımlanır ve bu veriler kullanılarak sinir ağı eğitilir. Eğitim tamamlandıktan sonra, kullanıcıdan üç adet girdi alınır ve bu girdiler kullanılarak sinir ağından çıktı hesaplanır. Eğitim sonucu oluşan ağırlıklar ve çıktı ekrana yazdırılır."
      ],
      "metadata": {
        "id": "CIgNuS3_Iw88"
      }
    },
    {
      "cell_type": "code",
      "execution_count": 36,
      "metadata": {
        "id": "7DA0_sPvHmpH"
      },
      "outputs": [],
      "source": [
        "import numpy as np \n",
        "# seeding for random number generation\n",
        "np.random.seed(1) \n",
        "#converting weights to a 3 by 1 matrix with values from -1 to 1 and mean of 0\n",
        "synaptic_weights = 2 * np.random.random((3, 1)) - 1"
      ]
    },
    {
      "cell_type": "code",
      "source": [
        "def sigmoid(x):\n",
        "    #applying the sigmoid function\n",
        "    return 1 / (1 + np.exp(-x))"
      ],
      "metadata": {
        "id": "jdF9bDNwH0kW"
      },
      "execution_count": 37,
      "outputs": []
    },
    {
      "cell_type": "code",
      "source": [
        "def sigmoid_derivative(x):\n",
        "    #computing derivative to the Sigmoid function\n",
        "    return x * (1 - x)"
      ],
      "metadata": {
        "id": "IGnFbqPrIBFr"
      },
      "execution_count": 38,
      "outputs": []
    },
    {
      "cell_type": "code",
      "source": [
        "def train(training_inputs, training_outputs, training_iterations):\n",
        "    global synaptic_weights\n",
        "    #training the model to make accurate predictions while adjusting weights continually\n",
        "    for iteration in range(training_iterations):\n",
        "        #siphon the training data via  the neuron\n",
        "        output = think(training_inputs)\n",
        "\n",
        "        #computing error rate for back-propagation\n",
        "        error = training_outputs - output\n",
        "            \n",
        "        #performing weight adjustments\n",
        "        adjustments = np.dot(training_inputs.T, error * sigmoid_derivative(output))\n",
        "\n",
        "        synaptic_weights += adjustments "
      ],
      "metadata": {
        "id": "2fKsLUo5IBIp"
      },
      "execution_count": 39,
      "outputs": []
    },
    {
      "cell_type": "code",
      "source": [
        "def think(inputs):\n",
        "    #passing the inputs via the neuron to get output   \n",
        "    #converting values to floats\n",
        "    inputs = inputs.astype(float)\n",
        "    output = sigmoid(np.dot(inputs, synaptic_weights))\n",
        "    return output"
      ],
      "metadata": {
        "id": "Jgd9svMxIBLJ"
      },
      "execution_count": 40,
      "outputs": []
    },
    {
      "cell_type": "code",
      "source": [
        "print(\"Beginning Randomly Generated Weights: \")\n",
        "print(synaptic_weights)\n",
        "\n",
        "#training data consisting of 4 examples--3 input values and 1 output\n",
        "training_inputs = np.array([[0,0,1],\n",
        "                            [1,1,1],\n",
        "                            [1,0,1],\n",
        "                            [0,1,1]])\n",
        "training_outputs = np.array([[0,1,1,0]]).T\n",
        "\n",
        "#training taking place\n",
        "train(training_inputs, training_outputs, 15000) \n",
        "\n",
        "print(\"Ending Weights After Training: \")\n",
        "print(synaptic_weights)\n",
        "\n",
        "user_input_one = str(input(\"User Input One: \"))\n",
        "user_input_two = str(input(\"User Input Two: \"))\n",
        "user_input_three = str(input(\"User Input Three: \"))\n",
        "    \n",
        "print(\"Considering New Situation: \", user_input_one, user_input_two, user_input_three)\n",
        "print(\"New Output data: \")\n",
        "print(think(np.array([user_input_one, user_input_two, user_input_three])))\n",
        "print(\"Wow, we did it!\")"
      ],
      "metadata": {
        "colab": {
          "base_uri": "https://localhost:8080/"
        },
        "id": "d-YGXTwOIKKj",
        "outputId": "af5ce96f-2e1d-4724-f20b-2c2997e44776"
      },
      "execution_count": 35,
      "outputs": [
        {
          "output_type": "stream",
          "name": "stdout",
          "text": [
            "Beginning Randomly Generated Weights: \n",
            "[[10.08740896]\n",
            " [-0.20695366]\n",
            " [-4.83757835]]\n",
            "Ending Weights After Training: \n",
            "[[10.792157 ]\n",
            " [-0.2057585]\n",
            " [-5.1909263]]\n",
            "User Input One: 1\n",
            "User Input Two: 0\n",
            "User Input Three: 0\n",
            "Considering New Situation:  1 0 0\n",
            "New Output data: \n",
            "[0.99997944]\n",
            "Wow, we did it!\n"
          ]
        }
      ]
    }
  ]
}