{
  "nbformat": 4,
  "nbformat_minor": 0,
  "metadata": {
    "colab": {
      "provenance": []
    },
    "kernelspec": {
      "name": "python3",
      "display_name": "Python 3"
    },
    "language_info": {
      "name": "python"
    }
  },
  "cells": [
    {
      "cell_type": "markdown",
      "source": [
        "***Training02:***\n",
        "\n",
        "Bu çalışmada ilk olarak, eğitim ve test verileri oluşturulur. Bu veriler, üç özelliğe sahip altı adet örnekten oluşmaktadır ve çıktı verisi verildiğinden bu örnekte bilgi öğretme (supervised learning) kullanılmıştır. Daha sonra, veriler skalerleme işlemi için \"MinMaxScaler\" sınıfı kullanılarak ölçeklenir.\n",
        "\n",
        "Daha sonra, bir sinir ağı oluşturulur ve bu ağın girdi, gizli ve çıktı katmanları tanımlanır. Bu ağın ağırlıkları rastgele olarak atanır ve hata listesi, her bir epoch için ortalama mutlak hata (MAE) değerlerini tutacaktır. Daha sonra, \"sigmoid\" ve \"sigmoidPrime\" fonksiyonları tanımlanır. Bu fonksiyonlar, verilen bir değerin sigmoid fonksiyonunun değerini ve türevini hesaplamak için kullanılır. Ardından, \"forward\" fonksiyonu tanımlanır ve bu fonksiyon, sinir ağının ön yönlü (forward) yayılımını gerçekleştirir. Bu fonksiyon, verilen girdileri kullanarak sinir ağındaki her bir katmanın değerlerini hesaplar ve sonuç olarak bir çıktı döndürür. Sonra, \"backward\" fonksiyonu tanımlanır ve bu fonksiyon, ön yönlü yayılım sırasında hesaplanan hata değerlerini kullanarak sinir ağının ağırlıklarını günceller. Daha sonra, \"train\" fonksiyonu tanımlanır ve bu fonksiyon, verilen eğitim verilerini kullanarak sinir ağını eğitir. Bu fonksiyon içerisinde, \"forward\" fonksiyonu kullanılarak ön yönlü yayılım gerçekleştirilir ve hata değerleri hesaplanır. Bu hata değerleri, \"backward\" fonksiyonu kullanılarak ağırlıklar güncellenir. Bu işlem, verilen epoch sayısı kadar tekrar edilir. Son olarak, \"think\" fonksiyonu tanımlanır ve bu fonksiyon, sinir ağını kullanarak verilen girdilere göre çıktı tahminleri yapar. Kullanıcıdan alınan girdiler, \"train\" fonksiyonunu çağırarak sinir ağı eğitilir ve sonrasında \"think\" fonksiyonu kullanılarak tahminler yapılır.\n",
        "\n"
      ],
      "metadata": {
        "id": "fkJLKWGlKZR6"
      }
    },
    {
      "cell_type": "code",
      "execution_count": 1,
      "metadata": {
        "id": "FMuyz4PTJeyc"
      },
      "outputs": [],
      "source": [
        "import numpy as np\n",
        "from sklearn.preprocessing import MinMaxScaler\n",
        "import matplotlib.pyplot as plt"
      ]
    },
    {
      "cell_type": "code",
      "source": [
        "input_train = np.array([[0, 1, 0], [0, 1, 1], [0, 0, 0], [10, 0, 0], [10, 1, 1], [10, 0, 1]])\n",
        "output_train = np.array([[0], [0], [0], [1], [1], [1]])\n",
        "input_pred = np.array([1, 1, 0])  \n",
        "input_test = np.array([[1, 1, 1], [10, 0, 1], [0, 1, 10], [10, 1, 10], [0, 0, 0], [0, 1, 1]])\n",
        "output_test = np.array([[0], [1], [0], [1], [0], [0]])\n",
        "     "
      ],
      "metadata": {
        "id": "q9FhmeXHJmK2"
      },
      "execution_count": 2,
      "outputs": []
    },
    {
      "cell_type": "code",
      "source": [
        "scaler = MinMaxScaler()\n",
        "input_train_scaled = scaler.fit_transform(input_train)\n",
        "output_train_scaled = scaler.fit_transform(output_train)\n",
        "input_test_scaled = scaler.fit_transform(input_test)\n",
        "output_test_scaled = scaler.fit_transform(output_test)"
      ],
      "metadata": {
        "id": "UpdBmTk_JmNa"
      },
      "execution_count": 3,
      "outputs": []
    },
    {
      "cell_type": "code",
      "source": [
        "inputSize = 3\n",
        "outputSize = 1\n",
        "hiddenSize = 3\n",
        "\n",
        "W1 = np.random.rand(inputSize, hiddenSize)\n",
        "W2 = np.random.rand(hiddenSize, outputSize)\n",
        "\n",
        "error_list = []\n",
        "limit = 0.5\n",
        "true_positives = 0\n",
        "false_positives = 0\n",
        "true_negatives = 0\n",
        "false_negatives = 0 "
      ],
      "metadata": {
        "id": "cEh9sHoEJmSf"
      },
      "execution_count": 4,
      "outputs": []
    },
    {
      "cell_type": "code",
      "source": [
        "def sigmoid(s):\n",
        "    return 1 / (1 + np.exp(-s))\n",
        "\n",
        "def sigmoidPrime(s):\n",
        "    return s * (1 - s) "
      ],
      "metadata": {
        "id": "28nof1ssJmVS"
      },
      "execution_count": 5,
      "outputs": []
    },
    {
      "cell_type": "code",
      "source": [
        "#Create a Forward Propagation Function\n",
        "def forward(X):\n",
        "    global z,z2,z3\n",
        "    z = np.matmul(X, W1)\n",
        "    z2 = sigmoid(z)\n",
        "    z3 = np.matmul(z2, W2)\n",
        "    o = sigmoid(z3)\n",
        "    return o "
      ],
      "metadata": {
        "id": "pDFWkAI8Jzx9"
      },
      "execution_count": 6,
      "outputs": []
    },
    {
      "cell_type": "code",
      "source": [
        "#Create a Backward Propagation Function\n",
        "def backward(X, y, o):\n",
        "    global z2,W2,W1,o_error\n",
        "    o_error = y - o\n",
        "    o_delta = o_error * sigmoidPrime(o)\n",
        "    z2_error = np.matmul(o_delta, np.matrix.transpose(W2))\n",
        "    z2_delta = z2_error * sigmoidPrime(z2)\n",
        "    W1 += np.matmul(np.matrix.transpose(X), z2_delta)\n",
        "    W2 += np.matmul(np.matrix.transpose(z2), o_delta)"
      ],
      "metadata": {
        "id": "Q6f76bGaJ2CM"
      },
      "execution_count": 7,
      "outputs": []
    },
    {
      "cell_type": "code",
      "source": [
        "#Create a Training Function\n",
        "def train(X, y, epochs): \n",
        "    global o_error\n",
        "    for epoch in range(epochs): \n",
        "        o = forward(X)\n",
        "        backward(X, y, o)\n",
        "        error_list.append(np.abs(o_error).mean()) "
      ],
      "metadata": {
        "id": "hn-FiDmwJ4z9"
      },
      "execution_count": 8,
      "outputs": []
    },
    {
      "cell_type": "code",
      "source": [
        "#Create a Prediction Function\n",
        "def predict(x_predicted):\n",
        "    return forward(x_predicted).item()"
      ],
      "metadata": {
        "id": "sg3_jMagJ7Zj"
      },
      "execution_count": 9,
      "outputs": []
    },
    {
      "cell_type": "code",
      "source": [
        "#Plot the Mean Absolute Error Development\n",
        "def view_error_development():\n",
        "    plt.plot(range(len(error_list)), error_list)\n",
        "    plt.title('Mean Sum Squared Loss')\n",
        "    plt.xlabel('Epoch')\n",
        "    plt.ylabel('Loss')"
      ],
      "metadata": {
        "id": "0Ll5k6DLJ-GW"
      },
      "execution_count": 10,
      "outputs": []
    },
    {
      "cell_type": "code",
      "source": [
        "#Calculate the Accuracy and its Components\n",
        "def test_evaluation(input_test, output_test):\n",
        "    global true_positives, true_negatives, false_positives, false_negatives\n",
        "    for i, test_element in enumerate(input_test):\n",
        "        if predict(test_element) > limit and output_test[i] == 1:\n",
        "           true_positives += 1\n",
        "        if predict(test_element) < limit and output_test[i] == 1:\n",
        "           false_negatives += 1\n",
        "        if predict(test_element) > limit and output_test[i] == 0:\n",
        "           false_positives += 1\n",
        "        if predict(test_element) < limit and output_test[i] == 0:\n",
        "           true_negatives += 1\n",
        "\n",
        "        print('True positives: ', true_positives,\n",
        "              '\\nTrue negatives: ', true_negatives,\n",
        "              '\\nFalse positives: ', false_positives,\n",
        "              '\\nFalse negatives: ', false_negatives,\n",
        "              '\\nAccuracy: ',\n",
        "              (true_positives + true_negatives) / (true_positives + true_negatives + false_positives + false_negatives))"
      ],
      "metadata": {
        "id": "IVngOLevKBB0"
      },
      "execution_count": 11,
      "outputs": []
    },
    {
      "cell_type": "code",
      "source": [
        "#Run a Script That Trains and Evaluate the Neural Network Model\n",
        "\n",
        "train(input_train_scaled, output_train_scaled, 200)\n",
        "predict(input_pred)\n",
        "view_error_development()\n",
        "test_evaluation(input_test_scaled, output_test_scaled)"
      ],
      "metadata": {
        "colab": {
          "base_uri": "https://localhost:8080/",
          "height": 816
        },
        "id": "EvGkwtJ5KDqo",
        "outputId": "95b5ffcc-2a6e-4039-aefd-9c22199599aa"
      },
      "execution_count": 12,
      "outputs": [
        {
          "output_type": "stream",
          "name": "stdout",
          "text": [
            "True positives:  0 \n",
            "True negatives:  1 \n",
            "False positives:  0 \n",
            "False negatives:  0 \n",
            "Accuracy:  1.0\n",
            "True positives:  1 \n",
            "True negatives:  1 \n",
            "False positives:  0 \n",
            "False negatives:  0 \n",
            "Accuracy:  1.0\n",
            "True positives:  1 \n",
            "True negatives:  2 \n",
            "False positives:  0 \n",
            "False negatives:  0 \n",
            "Accuracy:  1.0\n",
            "True positives:  2 \n",
            "True negatives:  2 \n",
            "False positives:  0 \n",
            "False negatives:  0 \n",
            "Accuracy:  1.0\n",
            "True positives:  2 \n",
            "True negatives:  3 \n",
            "False positives:  0 \n",
            "False negatives:  0 \n",
            "Accuracy:  1.0\n",
            "True positives:  2 \n",
            "True negatives:  4 \n",
            "False positives:  0 \n",
            "False negatives:  0 \n",
            "Accuracy:  1.0\n"
          ]
        },
        {
          "output_type": "display_data",
          "data": {
            "text/plain": [
              "<Figure size 432x288 with 1 Axes>"
            ],
            "image/png": "[encoded data removed]"
          },
          "metadata": {
            "needs_background": "light"
          }
        }
      ]
    }
  ]
}